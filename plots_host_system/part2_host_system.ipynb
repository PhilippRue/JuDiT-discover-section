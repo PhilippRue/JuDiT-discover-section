{
 "cells": [
  {
   "cell_type": "code",
   "execution_count": null,
   "metadata": {},
   "outputs": [],
   "source": [
    "# use Qt instead of Tk backend (on mac)\n",
    "import matplotlib\n",
    "matplotlib.use(\"Qt4Agg\")\n",
    "\n",
    "import panel as pn\n",
    "\n",
    "pn.extension('mathjax')"
   ]
  },
  {
   "cell_type": "code",
   "execution_count": null,
   "metadata": {},
   "outputs": [],
   "source": [
    "# general settings:\n",
    "export_as_html = False"
   ]
  },
  {
   "cell_type": "code",
   "execution_count": null,
   "metadata": {},
   "outputs": [],
   "source": [
    "# start with progress bar\n",
    "import ipywidgets as widgets\n",
    "from IPython.display import display\n",
    "\n",
    "\n",
    "def init_pbar_1(Nmax):\n",
    "    pbar_1 = widgets.IntProgress(\n",
    "        value=0,\n",
    "        min=0,\n",
    "        max=Nmax,\n",
    "        step=1,\n",
    "        description='Loading:',\n",
    "        bar_style='', # 'success', 'info', 'warning', 'danger' or ''\n",
    "        orientation='horizontal'\n",
    "    )\n",
    "    display(pbar_1)\n",
    "    return pbar_1\n",
    "\n",
    "# show progress bar (updated during the course of this script via incrementing pbar.value)\n",
    "pbar_1 = init_pbar_1(4)"
   ]
  },
  {
   "cell_type": "code",
   "execution_count": null,
   "metadata": {},
   "outputs": [],
   "source": [
    "# load aiida\n",
    "from aiida import load_profile\n",
    "profile = load_profile()"
   ]
  },
  {
   "cell_type": "code",
   "execution_count": null,
   "metadata": {},
   "outputs": [],
   "source": [
    "# load other modules\n",
    "import ipywidgets as widgets\n",
    "from IPython.display import display\n",
    "import markdown \n",
    "from aiida.orm import load_node\n",
    "from aiida_kkr.tools import plot_kkr\n",
    "\n",
    "from aiida_kkr.calculations import VoronoiCalculation\n",
    "from aiida.orm import StructureData\n",
    "\n",
    "from ase_notebook import AseView, ViewConfig"
   ]
  },
  {
   "cell_type": "code",
   "execution_count": null,
   "metadata": {},
   "outputs": [],
   "source": [
    "import numpy as np\n",
    "import bokeh.plotting as bkp\n",
    "from bokeh.plotting import figure, show, output_notebook, output_file\n",
    "from bokeh.models import ColumnDataSource\n",
    "from bokeh.models import Span\n",
    "from bokeh.models import Label\n",
    "from bokeh.layouts import row\n",
    "\n",
    "\n",
    "import ipywidgets as widgets\n",
    "from IPython.display import display\n",
    "from ipywidgets import HBox, VBox"
   ]
  },
  {
   "cell_type": "code",
   "execution_count": null,
   "metadata": {},
   "outputs": [],
   "source": [
    "if export_as_html:\n",
    "    output_file('/Users/ruess/Desktop/Sb2Te3_host_bandstruc_dos.html')\n",
    "else:\n",
    "    # set output to notbook not file\n",
    "    bkp.output_notebook(hide_banner=True)"
   ]
  },
  {
   "cell_type": "markdown",
   "metadata": {},
   "source": [
    "### Electronic structure of Sb$_2$Te$_3$ host crystal"
   ]
  },
  {
   "cell_type": "code",
   "execution_count": null,
   "metadata": {},
   "outputs": [],
   "source": [
    "# Some general settings:\n",
    "\n",
    "show_structure = True"
   ]
  },
  {
   "cell_type": "code",
   "execution_count": null,
   "metadata": {},
   "outputs": [],
   "source": [
    "# host system: Sb2Te3 6QL slab\n",
    "# - DOS and bandstructure\n",
    "# - crystal structure, highlight impurity positions\n",
    "\n",
    "# load data from database\n",
    "Sb2Te3_6QL_DOS = load_node('edb8f4ec-38a0-46c9-9334-4448915aebb1') # +/-5eV\n",
    "Sb2Te3_6QL_bandstruc = load_node('d3a077c4-967e-41a1-9817-a687e8ab475d') # -0.5eV..+0.3eV, corrected K-path\n",
    "\n",
    "show_empty_atoms= False\n",
    "\n",
    "# shift reference energy\n",
    "EF0 = 0.2\n",
    "\n",
    "gapend = 0.095    #0.105\n",
    "gapstart = -0.062  #-0.06"
   ]
  },
  {
   "cell_type": "code",
   "execution_count": null,
   "metadata": {},
   "outputs": [],
   "source": [
    "pbar_1.value += 1"
   ]
  },
  {
   "cell_type": "code",
   "execution_count": null,
   "metadata": {},
   "outputs": [],
   "source": [
    "# Functions to plot crystal structure:"
   ]
  },
  {
   "cell_type": "code",
   "execution_count": null,
   "metadata": {},
   "outputs": [],
   "source": [
    "def prepare_plotting_structure(return_struc=False):\n",
    "    # find and plot structure\n",
    "    structure0, voro_calc = VoronoiCalculation.find_parent_structure(Sb2Te3_6QL_bandstruc)\n",
    "\n",
    "    if structure0.has_vacancies:\n",
    "        cell = structure0.cell\n",
    "        \n",
    "        # correct cell ...\n",
    "        cell[2] = [i*8 for i in cell[2]]\n",
    "\n",
    "        stmp = StructureData(cell=cell)\n",
    "        for site in structure0.sites:\n",
    "            k = structure0.get_kind(site.kind_name)\n",
    "            pos = np.array(site.position)\n",
    "            pos[2] = -pos[2]\n",
    "            if not k.has_vacancies:\n",
    "                stmp.append_atom(position=pos, symbols=k.symbol)\n",
    "            elif show_empty_atoms:\n",
    "                stmp.append_atom(position=pos, symbols='X')\n",
    "            #else:\n",
    "            #    print(\"removing atom\", site)\n",
    "        stmp.set_pbc(structure0.pbc)\n",
    "        structure = stmp\n",
    "        \n",
    "    if return_struc:\n",
    "        return structure\n",
    "\n",
    "    # now construct ase object and use ase's viewer\n",
    "    ase_atoms = structure.get_ase()\n",
    "    \n",
    "    return ase_atoms"
   ]
  },
  {
   "cell_type": "code",
   "execution_count": null,
   "metadata": {},
   "outputs": [],
   "source": [
    "def create_structure_plot(ase_atoms, static_plot=False):\n",
    "    # set up structure viewer from ase_notebook\n",
    "\n",
    "    config_dict = {\n",
    "        'atom_show_label': True, #True,\n",
    "        'rotations': \"-90x,-60y,0z\",\n",
    "        #'rotations': \"-90x,-60y,180z\",\n",
    "        'show_uc_repeats': True,\n",
    "        'show_bonds': False,\n",
    "        'show_unit_cell': False,\n",
    "#        'canvas_size': [120, 400],\n",
    "        'canvas_size': [120, 400],\n",
    "        'zoom': 1.0,\n",
    "        'show_axes': True,\n",
    "        'canvas_background_opacity': 0.05,\n",
    "        'canvas_color_background': 'black',\n",
    "        'axes_length': 30,\n",
    "    }\n",
    "    \n",
    "    #ase_atoms.rotate(180, 'z', rotate_cell=True)\n",
    "    ase_atoms.rotate('-z', 'z', rotate_cell=True)\n",
    "    #ase_atoms.rotate(-90, 'x', rotate_cell=True)\n",
    "    #ase_atoms.rotate(-60, 'y', rotate_cell=True)\n",
    "\n",
    "    config = ViewConfig(**config_dict)\n",
    "    ase_view = AseView(config)\n",
    "    ase_view_imp = AseView(config)\n",
    "    ase_view_imp.config.zoom = 0.7\n",
    "\n",
    "    \n",
    "    if not static_plot:\n",
    "        strucview = ase_view.make_render(\n",
    "                ase_atoms, center_in_uc=False,\n",
    "                repeat_uc=(3,3,1), use_atom_arrays=True,\n",
    "                create_gui=True, #True, \n",
    "            )\n",
    "    else:\n",
    "        ase_view.config.zoom = 1.2\n",
    "        ase_view.config.atom_show_label = False\n",
    "        ase_view.config.show_axes = False\n",
    "        ase_view.config.canvas_background_opacity = 0.0\n",
    "        strucview = ase_view.make_svg(ase_atoms, center_in_uc=False,\n",
    "                repeat_uc=(3,3,1)\n",
    "             )\n",
    "        \n",
    "    return strucview"
   ]
  },
  {
   "cell_type": "code",
   "execution_count": null,
   "metadata": {},
   "outputs": [],
   "source": [
    "# Functions to plot bandstructure"
   ]
  },
  {
   "cell_type": "code",
   "execution_count": null,
   "metadata": {},
   "outputs": [],
   "source": [
    "def load_bandstruc_data():\n",
    "    if 'saved_data_dispersion.npy' in Sb2Te3_6QL_bandstruc.outputs.retrieved.list_object_names():\n",
    "        # load data\n",
    "        import numpy as np\n",
    "        with Sb2Te3_6QL_bandstruc.outputs.retrieved.open('saved_data_dispersion.npy') as f:\n",
    "            fn = f.name\n",
    "        data_bandstruc = np.load(fn)\n",
    "    else:\n",
    "        raise ValueError('Could not load bandstructure data')\n",
    "\n",
    "    with Sb2Te3_6QL_bandstruc.outputs.retrieved.open('output.0.txt') as f:\n",
    "        ef = [float(i.split('=')[2].split()[0]) for i in f.readlines() if 'Fermi' in i][0]\n",
    "\n",
    "    ne = len(set(data_bandstruc[:,0]))\n",
    "    nk = int(len(data_bandstruc)/ne)\n",
    "    data_bandstruc = data_bandstruc.reshape(ne,nk,-1)\n",
    "\n",
    "\n",
    "    y = (data_bandstruc[:,0,0] - ef)*13.6 + EF0\n",
    "    x = data_bandstruc[0,:,2] - data_bandstruc[0,:,3]\n",
    "    dtot = data_bandstruc[:,:,5]\n",
    "    \n",
    "    return x, y, dtot"
   ]
  },
  {
   "cell_type": "code",
   "execution_count": null,
   "metadata": {},
   "outputs": [],
   "source": [
    "def plot_bandstruc():\n",
    "    x, y, dtot = load_bandstruc_data()\n",
    "\n",
    "    x_range=[-0.6,0.4] #x.min(),x.max()]\n",
    "    y_range=[y.min(),y.max()]\n",
    "\n",
    "    dw = x_range[1]-x_range[0]\n",
    "    dh = y_range[1]-y_range[0]\n",
    "\n",
    "    # for paper plot:\n",
    "    #p = bkp.figure(plot_width=500, plot_height=350,\n",
    "    p = bkp.figure(plot_width=350, plot_height=400, \n",
    "                   tools='pan,box_zoom,wheel_zoom,reset,save',\n",
    "               #tooltips=[(\"x\", \"$x\"), (\"y\", \"$y\")],\n",
    "               x_range=x_range, y_range=y_range)\n",
    "\n",
    "    # must give a vector of image data for image parameter\n",
    "    p.image(image=[-dtot], x=x_range[0], y=y_range[0], dw=dw, dh=dh, palette=\"Greys256\")\n",
    "\n",
    "\n",
    "    p.title.text = \"Sb2Te3 6QL bandstructure\"\n",
    "    p.yaxis.axis_label = 'E-EF (eV)'\n",
    "\n",
    "    p.xaxis.ticker = [-0.6, 0, 0.4]\n",
    "    p.xaxis.major_label_overrides = {-0.6: 'M', 0: 'Gamma', 0.4: 'K'}\n",
    "\n",
    "    #bkp.show(p)\n",
    "    return p"
   ]
  },
  {
   "cell_type": "code",
   "execution_count": null,
   "metadata": {},
   "outputs": [],
   "source": [
    "def add_ef_lines_bandstruc(bandstruc_plot):\n",
    "    # add hbar (blue) to left plot\n",
    "    bandstruc_plot.hbar(y=gapstart+gapwidth/2, height=gapwidth, left=-0.1*ymax, right=ymax*1.2, color='lightblue', \n",
    "           alpha=0.4, name='grey')\n",
    "\n",
    "    # add lines for other EF positions\n",
    "    bandstruc_plot.line([-2, 2], [0.2, 0.2], line_width=1, line_alpha=0.8, color='green', legend_label='+200meV')\n",
    "    bandstruc_plot.line([-2, 2], [-0.2,-0.2], line_width=1, line_alpha=0.8, color='red', legend_label='-200meV')\n",
    "\n",
    "    # make legend and allow lines to disappear on click\n",
    "    bandstruc_plot.legend.location = \"top_left\"\n",
    "    bandstruc_plot.legend.click_policy=\"hide\"\n",
    "\n",
    "    # add text to label bulk band gap region\n",
    "    band_gap_text = Label(x=-0.55, y=-0.01, x_units='data', y_units='data',\n",
    "                          text='bulk band gap', render_mode='css',\n",
    "                         )\n",
    "    bandstruc_plot.add_layout(band_gap_text)"
   ]
  },
  {
   "cell_type": "code",
   "execution_count": null,
   "metadata": {},
   "outputs": [],
   "source": [
    "# Functions to plot host DOS"
   ]
  },
  {
   "cell_type": "code",
   "execution_count": null,
   "metadata": {},
   "outputs": [],
   "source": [
    "def get_data_dos():\n",
    "    \n",
    "    # define global variables (needed by add_ef_lines_bandstruc function)\n",
    "    global ymax, gapwidth\n",
    "\n",
    "    # load DOS data\n",
    "    dos_data = Sb2Te3_6QL_DOS.outputs.dos_data_interpol\n",
    "\n",
    "    xlbl, x, xunit = dos_data.get_x()\n",
    "    xlbl += ' ('+xunit+')'\n",
    "    # shift Fermi level\n",
    "    x += EF0\n",
    "\n",
    "    ylbl, y, yunit = dos_data.get_y()[0] # total dos\n",
    "    ylbl += ' ('+yunit+')'\n",
    "\n",
    "    # find values for gap region\n",
    "    gapwidth = gapend - gapstart\n",
    "    ymax = max(np.sum(y[1::2,:], axis=0) - np.sum(y[0::2,:], axis=0))\n",
    "    \n",
    "    # create dos source for plotting with bokeh\n",
    "    #                                     E-EF    (        spin up     )   (     -spin down     )\n",
    "    source = ColumnDataSource(data=dict(x=x[0], y=np.sum(y[1::2,:], axis=0) - np.sum(y[0::2,:], axis=0),\n",
    "                                       )\n",
    "                             )\n",
    "    \n",
    "    return source"
   ]
  },
  {
   "cell_type": "code",
   "execution_count": null,
   "metadata": {},
   "outputs": [],
   "source": [
    "def plot_dos():\n",
    "    \n",
    "    # prepare DOS data\n",
    "    source_dos = get_data_dos()\n",
    "\n",
    "    # open bokeh figure\n",
    "    # for paper plot:\n",
    "    #dos_plot = bkp.figure(plot_width=500, plot_height=300, y_range = [0, ymax*1.05], x_range=[-4, 3])\n",
    "    dos_plot = bkp.figure(plot_width=400, plot_height=400, y_range = [0, ymax*1.05], x_range=[-4, 3],\n",
    "                          tools='pan,box_zoom,wheel_zoom,reset,save',)\n",
    "\n",
    "    # set title and axis labels for DOS plot\n",
    "    dos_plot.title.text = \"Sb2Te3 6QL DOS\"\n",
    "    dos_plot.xaxis.axis_label = 'E (eV)'\n",
    "    dos_plot.yaxis.axis_label = 'DOS (states/eV)'\n",
    "    \n",
    "    \n",
    "    # add vbar (blue) to right plot\n",
    "    dos_plot.vbar(x=gapstart+gapwidth/2, width=gapwidth, bottom=-0.1*ymax, top=ymax*1.2, color='lightblue', \n",
    "            alpha=0.4, name='grey')\n",
    "\n",
    "    # plot DOS data\n",
    "    dos_plot.line('x', 'y', source=source_dos, line_width=3, line_alpha=0.6, color='black', legend_label='total DOS')\n",
    "    \n",
    "    # add lines\n",
    "    dos_plot.line([0.2, 0.2], [-200, 200], line_width=1, line_alpha=0.8, color='green', legend_label='+200meV')\n",
    "    dos_plot.line([-0.2, -0.2], [-200, 200], line_width=1, line_alpha=0.8, color='red', legend_label='-200meV')\n",
    "\n",
    "    dos_plot.legend.location = \"bottom_left\"\n",
    "    dos_plot.legend.click_policy=\"hide\"\n",
    "    \n",
    "    dos_plot.grid.visible = False\n",
    "\n",
    "\n",
    "    #bkp.show(dos_plot)\n",
    "    return dos_plot"
   ]
  },
  {
   "cell_type": "code",
   "execution_count": null,
   "metadata": {},
   "outputs": [],
   "source": [
    "# Now do plotting ..."
   ]
  },
  {
   "cell_type": "code",
   "execution_count": null,
   "metadata": {},
   "outputs": [],
   "source": [
    "if show_structure:\n",
    "    # \n",
    "    ase_atoms = prepare_plotting_structure()\n",
    "\n",
    "    # \n",
    "    strucview = create_structure_plot(ase_atoms, static_plot=True)\n",
    "\n",
    "\n",
    "    # show structure viewer\n",
    "    #strucview\n",
    "\n",
    "    ipywidgetout_strucview = widgets.Output()\n",
    "\n",
    "    with ipywidgetout_strucview:\n",
    "        display(strucview)\n",
    "\n",
    "    # show strucview viewer in ipywidget output\n",
    "    #ipywidgetout_strucview"
   ]
  },
  {
   "cell_type": "code",
   "execution_count": null,
   "metadata": {},
   "outputs": [],
   "source": [
    "pbar_1.value += 1"
   ]
  },
  {
   "cell_type": "code",
   "execution_count": null,
   "metadata": {},
   "outputs": [],
   "source": [
    "# DOS and bandstructure plots"
   ]
  },
  {
   "cell_type": "code",
   "execution_count": null,
   "metadata": {},
   "outputs": [],
   "source": [
    "# create bandstructure plot\n",
    "bandstruc_plot = plot_bandstruc()"
   ]
  },
  {
   "cell_type": "code",
   "execution_count": null,
   "metadata": {},
   "outputs": [],
   "source": [
    "pbar_1.value += 1"
   ]
  },
  {
   "cell_type": "code",
   "execution_count": null,
   "metadata": {},
   "outputs": [],
   "source": [
    "# make DOS plot\n",
    "dos_plot = plot_dos()\n",
    "# add ef lines to bandstructure plot (needs to be done here since some values are otherwise not defined)\n",
    "add_ef_lines_bandstruc(bandstruc_plot)"
   ]
  },
  {
   "cell_type": "code",
   "execution_count": null,
   "metadata": {},
   "outputs": [],
   "source": [
    "#show(dos_plot)"
   ]
  },
  {
   "cell_type": "code",
   "execution_count": null,
   "metadata": {},
   "outputs": [],
   "source": [
    "#show(bandstruc_plot)"
   ]
  },
  {
   "cell_type": "code",
   "execution_count": null,
   "metadata": {},
   "outputs": [],
   "source": [
    "pbar_1.value += 1"
   ]
  },
  {
   "cell_type": "code",
   "execution_count": null,
   "metadata": {},
   "outputs": [],
   "source": [
    "legend = pn.pane.Markdown(\"## Host system: thin film of Sb$_2$Te$_3$\"\n",
    "                          \"\\n\"\n",
    "                          \"### Legend\\n\"\n",
    "                          \"* Red line: Fermi level shift into conduction band\\n\"\n",
    "                          \"* Green line: Fermi level shift into valence band\\n\"\n",
    "                          \"* blue region: region of bulk band gap\\n\"\n",
    "                         )\n",
    "legend"
   ]
  },
  {
   "cell_type": "code",
   "execution_count": null,
   "metadata": {},
   "outputs": [],
   "source": [
    "# put bandstructure and DOS plots together\n",
    "layout = row(bandstruc_plot,dos_plot)\n",
    "\n",
    "\n",
    "#bkp.show(layout)\n",
    "\n",
    "o2 = widgets.Output()\n",
    "\n",
    "with o2:\n",
    "    bkp.show(layout)\n",
    "\n",
    "if show_structure:\n",
    "    display_all = HBox([ipywidgetout_strucview, o2])\n",
    "else:\n",
    "    display_all = VBox([o2])\n",
    "\n",
    "if export_as_html:\n",
    "    # open/ save as html\n",
    "    bkp.show(layout)\n",
    "else:\n",
    "    # open interactively\n",
    "    #display(display_all)\n",
    "    #pn.Column(display_all).servable()\n",
    "    struc_title = pn.pane.LaTeX(\"Thin film (6QL) of Sb$_2$Te$_3$\")\n",
    "    #host_plots = pn.Row(pn.Column(struc_title, strucview), layout)\n",
    "    host_plots = pn.Row(strucview, layout)"
   ]
  },
  {
   "cell_type": "code",
   "execution_count": null,
   "metadata": {},
   "outputs": [],
   "source": [
    "pbar_1.close()"
   ]
  },
  {
   "cell_type": "code",
   "execution_count": null,
   "metadata": {},
   "outputs": [],
   "source": [
    "# now show plots\n",
    "host_plots"
   ]
  },
  {
   "cell_type": "code",
   "execution_count": null,
   "metadata": {},
   "outputs": [],
   "source": []
  },
  {
   "cell_type": "code",
   "execution_count": null,
   "metadata": {},
   "outputs": [],
   "source": []
  }
 ],
 "metadata": {
  "@webio": {
   "lastCommId": null,
   "lastKernelId": null
  },
  "kernelspec": {
   "display_name": "Python 3",
   "language": "python",
   "name": "python3"
  },
  "language_info": {
   "codemirror_mode": {
    "name": "ipython",
    "version": 3
   },
   "file_extension": ".py",
   "mimetype": "text/x-python",
   "name": "python",
   "nbconvert_exporter": "python",
   "pygments_lexer": "ipython3",
   "version": "3.8.1"
  }
 },
 "nbformat": 4,
 "nbformat_minor": 2
}
