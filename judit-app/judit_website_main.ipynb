{
 "cells": [
  {
   "cell_type": "code",
   "execution_count": null,
   "metadata": {},
   "outputs": [],
   "source": [
    "# measure timing\n",
    "\n",
    "from time import time\n",
    "import numpy as np\n",
    "\n",
    "times = [time()]"
   ]
  },
  {
   "cell_type": "code",
   "execution_count": null,
   "metadata": {},
   "outputs": [],
   "source": [
    "import panel as pn\n",
    "\n",
    "pn.extension('mathjax')"
   ]
  },
  {
   "cell_type": "code",
   "execution_count": null,
   "metadata": {},
   "outputs": [],
   "source": [
    "from global_settings import website_width\n",
    "from about import judit_header"
   ]
  },
  {
   "cell_type": "code",
   "execution_count": null,
   "metadata": {},
   "outputs": [],
   "source": [
    "#judit_header"
   ]
  },
  {
   "cell_type": "code",
   "execution_count": null,
   "metadata": {},
   "outputs": [],
   "source": [
    "# initialize website layout\n",
    "\n",
    "website_layout = pn.Column(judit_header)\n",
    "#website_layout"
   ]
  },
  {
   "cell_type": "code",
   "execution_count": null,
   "metadata": {},
   "outputs": [],
   "source": [
    "# import info texts about database, how to cite, acknowledgements etc.\n",
    "\n",
    "from about import db_info\n",
    "from global_settings import website_width"
   ]
  },
  {
   "cell_type": "code",
   "execution_count": null,
   "metadata": {},
   "outputs": [],
   "source": [
    "website_layout = pn.Column(website_layout, db_info)\n",
    "#db_info"
   ]
  },
  {
   "cell_type": "code",
   "execution_count": null,
   "metadata": {},
   "outputs": [],
   "source": [
    "times+= [time()]"
   ]
  },
  {
   "cell_type": "markdown",
   "metadata": {},
   "source": [
    "## Host system: thin film of Sb$_2$Te$_3$"
   ]
  },
  {
   "cell_type": "code",
   "execution_count": null,
   "metadata": {},
   "outputs": [],
   "source": [
    "from plots_host_system import get_static_host_plots"
   ]
  },
  {
   "cell_type": "code",
   "execution_count": null,
   "metadata": {},
   "outputs": [],
   "source": [
    "host_plots = get_static_host_plots()"
   ]
  },
  {
   "cell_type": "code",
   "execution_count": null,
   "metadata": {},
   "outputs": [],
   "source": [
    "# add to website\n",
    "website_layout = pn.Column(website_layout, host_plots, )"
   ]
  },
  {
   "cell_type": "code",
   "execution_count": null,
   "metadata": {},
   "outputs": [],
   "source": [
    "host_plots"
   ]
  },
  {
   "cell_type": "code",
   "execution_count": null,
   "metadata": {},
   "outputs": [],
   "source": [
    "times+= [time()]"
   ]
  },
  {
   "cell_type": "markdown",
   "metadata": {},
   "source": [
    "## Overview of impurity properties"
   ]
  },
  {
   "cell_type": "code",
   "execution_count": null,
   "metadata": {},
   "outputs": [],
   "source": [
    "from plots_overview import make_overview_panels\n",
    "\n",
    "totimp_num_text, imps_overview = make_overview_panels()"
   ]
  },
  {
   "cell_type": "code",
   "execution_count": null,
   "metadata": {},
   "outputs": [],
   "source": [
    "imp_overview_header = pn.pane.Markdown(\"\"\"\n",
    "---\n",
    "## Overview of impurity properties\n",
    "\n",
    "We embed a large number of substitutional impurities in the topological insulator host system.\n",
    "The results are summarized in the overview plots. For details on the individual impurities use the\n",
    "detail view below.\n",
    "\n",
    "#### Available overview plots\n",
    "\n",
    "* Periodic table plot\n",
    "    * shows average values of the impurity properties (averaged over all impurity configurations)\n",
    "    * Navigate the properties with the Selection buttons\n",
    "    * Hover over the impurity to get see the values for each impurity\n",
    "* Scatter plot\n",
    "    * each calculation in the database if plotted as a point in the scatter plot\n",
    "    * use the control buttons to select which property is plotted on the x and y axis and which data column is used to color the plots\n",
    "                          \"\"\", width=website_width)\n",
    "header = pn.Column(imp_overview_header, pn.pane.Markdown(totimp_num_text))\n",
    "#header"
   ]
  },
  {
   "cell_type": "code",
   "execution_count": null,
   "metadata": {},
   "outputs": [],
   "source": [
    "imp_overview_plots = pn.Column(header, imps_overview)\n",
    "\n",
    "website_layout = pn.Column(website_layout, imp_overview_plots)\n",
    "\n",
    "#imp_overview_plots"
   ]
  },
  {
   "cell_type": "code",
   "execution_count": null,
   "metadata": {},
   "outputs": [],
   "source": [
    "times+= [time()]"
   ]
  },
  {
   "cell_type": "markdown",
   "metadata": {},
   "source": [
    "## Detailed impurity properties"
   ]
  },
  {
   "cell_type": "code",
   "execution_count": null,
   "metadata": {},
   "outputs": [],
   "source": [
    "from plots_imp_detail.imp_selector import make_imp_selector\n",
    "\n",
    "imp_select_panel = make_imp_selector()"
   ]
  },
  {
   "cell_type": "code",
   "execution_count": null,
   "metadata": {},
   "outputs": [],
   "source": [
    "#imp_select_panel"
   ]
  },
  {
   "cell_type": "code",
   "execution_count": null,
   "metadata": {},
   "outputs": [],
   "source": [
    "imp_detail_header = pn.pane.Markdown(\"---\\n\"\n",
    "                          \"## Detailed impurity properties\\n\"\n",
    "                          \"\\n\"\n",
    "                          \"Choose an impurity for which the detail page should be displayed. \\n\"\n",
    "                          \"This will show the impurity DOS its location in the host crystal in an \\n\"\n",
    "                          \"interactive plot with some text output.\", width=website_width)"
   ]
  },
  {
   "cell_type": "code",
   "execution_count": null,
   "metadata": {},
   "outputs": [],
   "source": [
    "imp_details = pn.Column(imp_detail_header, imp_select_panel)\n",
    "\n",
    "website_layout = pn.Column(website_layout, imp_details)\n",
    "\n",
    "#imp_details"
   ]
  },
  {
   "cell_type": "code",
   "execution_count": null,
   "metadata": {},
   "outputs": [],
   "source": [
    "from about import judit_footer"
   ]
  },
  {
   "cell_type": "code",
   "execution_count": null,
   "metadata": {},
   "outputs": [],
   "source": [
    "times+= [time()]"
   ]
  },
  {
   "cell_type": "code",
   "execution_count": null,
   "metadata": {},
   "outputs": [],
   "source": [
    "website_layout = pn.Row(pn.Spacer(), \n",
    "                        pn.Column(website_layout, judit_footer, \n",
    "                                  width_policy='max', height_policy='max'), #, sizing_mode='stretch_both', align='center',),\n",
    "                        pn.Spacer(),\n",
    "                       ).servable(title=\"JuDiT - impurity database\")"
   ]
  },
  {
   "cell_type": "code",
   "execution_count": null,
   "metadata": {
    "scrolled": false
   },
   "outputs": [],
   "source": [
    "#website_layout"
   ]
  },
  {
   "cell_type": "code",
   "execution_count": null,
   "metadata": {},
   "outputs": [],
   "source": [
    "# print timing info\n",
    "times+= [time()]\n",
    "times = np.array(times)\n",
    "print('timings main page:', times[1:]-times[:-1], sum(times[1:]-times[:-1]))"
   ]
  },
  {
   "cell_type": "code",
   "execution_count": null,
   "metadata": {},
   "outputs": [],
   "source": []
  }
 ],
 "metadata": {
  "@webio": {
   "lastCommId": null,
   "lastKernelId": null
  },
  "kernelspec": {
   "display_name": "Python 3",
   "language": "python",
   "name": "python3"
  },
  "language_info": {
   "codemirror_mode": {
    "name": "ipython",
    "version": 3
   },
   "file_extension": ".py",
   "mimetype": "text/x-python",
   "name": "python",
   "nbconvert_exporter": "python",
   "pygments_lexer": "ipython3",
   "version": "3.7.6"
  }
 },
 "nbformat": 4,
 "nbformat_minor": 4
}
