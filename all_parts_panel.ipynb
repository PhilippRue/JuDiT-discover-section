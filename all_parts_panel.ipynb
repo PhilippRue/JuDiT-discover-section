{
 "cells": [
  {
   "cell_type": "code",
   "execution_count": null,
   "metadata": {},
   "outputs": [],
   "source": [
    "# make cell as wide as window\n",
    "from IPython.display import display, HTML\n",
    "display(HTML(data=\"\"\"\n",
    "<style>\n",
    "    div#notebook-container    { width: 95%; }\n",
    "    div#menubar-container     { width: 65%; }\n",
    "    div#maintoolbar-container { width: 99%; }\n",
    "</style>\n",
    "\"\"\"))"
   ]
  },
  {
   "cell_type": "code",
   "execution_count": null,
   "metadata": {},
   "outputs": [],
   "source": [
    "# use Qt instead of Tk backend (on mac)\n",
    "import matplotlib\n",
    "matplotlib.use(\"Qt4Agg\")\n",
    "\n",
    "import panel as pn\n",
    "\n",
    "pn.extension('mathjax')\n",
    "#pn.extension('katex', 'mathjax')\n",
    "\n",
    "side_width = 800"
   ]
  },
  {
   "cell_type": "code",
   "execution_count": null,
   "metadata": {},
   "outputs": [],
   "source": [
    "header = pn.Column(\n",
    "    pn.pane.HTML(\"<img  align='right' src='https://www.fz-juelich.de/SiteGlobals/StyleBundles/Bilder/NeuesLayout/logo.jpg?__blob=normal' href='www.fz-juelich.de' width='150'/>\"\n",
    "                 \"\"\n",
    "                 \"\\n\"\n",
    "                 \"\"\n",
    "                , width=side_width),\n",
    "    pn.pane.Markdown(\"# *JuDiT* \"\n",
    "                , width=side_width),\n",
    "    pn.pane.Markdown(\"### **Jü**lich **D**atabase of **i**mpurities embedded into a **T**opological insulator\"\n",
    "                , width=side_width),\n",
    "    pn.pane.LaTeX(\"A collection first principles calculations for impurities embedded into the strong topological insulator Sb$_2$Te$_3$.\"\n",
    "                , width=side_width),\n",
    "    pn.Column(pn.pane.HTML(\"<br></br>\"\n",
    "                 \"<div align='right'>\"\n",
    "                 \"    <a href'https://archive.materialscloud.org'>Database version: v1.0</a>\"\n",
    "                 \"</div>\"\n",
    "                , width=side_width),\n",
    "              pn.pane.HTML(\"\"\"\n",
    "                           <div align='right'>\n",
    "                                doi: XXXXXXX\n",
    "                           </div>\n",
    "                           \"\"\", width=side_width)\n",
    "         ),\n",
    "                \n",
    ")"
   ]
  },
  {
   "cell_type": "code",
   "execution_count": null,
   "metadata": {},
   "outputs": [],
   "source": [
    "website_layout = pn.Column(header)\n",
    "#website_layout"
   ]
  },
  {
   "cell_type": "code",
   "execution_count": null,
   "metadata": {},
   "outputs": [],
   "source": [
    "# Execute all sub parts one after the other"
   ]
  },
  {
   "cell_type": "code",
   "execution_count": null,
   "metadata": {},
   "outputs": [],
   "source": [
    "# start with progress bar\n",
    "import ipywidgets as widgets\n",
    "from IPython.display import display\n",
    "\n",
    "\n",
    "def init_pbar_all(Nmax):\n",
    "    pbar_all = widgets.IntProgress(\n",
    "        value=0,\n",
    "        min=0,\n",
    "        max=Nmax,\n",
    "        step=1,\n",
    "        description='Loading:',\n",
    "        bar_style='success', # 'success', 'info', 'warning', 'danger' or ''\n",
    "        orientation='horizontal'\n",
    "    )\n",
    "    display(pbar_all)\n",
    "    return pbar_all\n",
    "\n",
    "# show progress bar (updated during the course of this script via incrementing pbar.value)\n",
    "#pbar_all = init_pbar_all(4)"
   ]
  },
  {
   "cell_type": "code",
   "execution_count": null,
   "metadata": {},
   "outputs": [],
   "source": [
    "import markdown\n",
    "\n",
    "\n",
    "how_to_cite = (\n",
    "    \"### If you use this tool please cite the following publication:\\n\"\n",
    "    \"\\n\"\n",
    "    \"#### Philipp Rüßmann, Fabian Bertoldo, and Stefan Blügel, *The AiiDA-KKR plugin and its application to high-throughput impurity embedding into a topological insulator*, in preparation (2020).\"\n",
    ")\n",
    "\n",
    "about = markdown.markdown(\n",
    "    \"We present the development of the AiiDA-KKR plugin that allows to perform a large number of \\n\"\n",
    "    \"*ab initio* impurity embedding calculations based on the relativistic full-potential \\n\"\n",
    "    \"Korringa-Kohn-Rostoker Green function method.\\n\"\n",
    "    \"The capabilities of the AiiDA-KKR plugin are demonstrated with the calculation of several \\n\"\n",
    "    \"thousand impurities embedded into the prototypical topological insulator Sb2Te3.\\n\"\n",
    "    \"The results are collected in the JuDiT database which we use to investigate chemical trends \\n\"\n",
    "    \"as well as Fermi level and layer dependence of physical properties of impurities. \\n\"\n",
    "    \"This includes the study of spin moments, the impurity's tendency to form in-gap states or its \\n\"\n",
    "    \"effect on the charge doping of the host-crystal.\\n\"\n",
    "    \"These properties depend on the detailed electronic structure of the impurity embedded into the \\n\"\n",
    "    \"host crystal which highlights the need for *ab initio* calculations in order to get accurate \\n\"\n",
    "    \"predictions.\"\n",
    ")\n",
    "\n",
    "acknowledgements = markdown.markdown(\n",
    "    \"### Computational support\\n\"\n",
    "    \"\\n\"\n",
    "    \"Computing time for this project was granted by the JARA Vergabegremium and \\n\"\n",
    "    \"provided on the JARA Partition part of the supercomputer CLAIX at RWTH Aachen University.\\n\"\n",
    "    \"\\n\"\n",
    "    \"### Funding\\n\"\n",
    "    \"\\n\"\n",
    "    \"We acknowledge funding from the Priority Programme SPP-1666 Topological Insulators \\n\"\n",
    "    \"of the Deutsche Forschungs- gemeinschaft (DFG) (projects MA4637/3-1), from the \\n\"\n",
    "    \"VITI Programme of the Helmholtz Association, as well as the\\n\" \n",
    "    \"Deutsche Forschungsgemeinschaft (DFG, German Research Foundation) \\n\"\n",
    "    \"under Germany's Excellence Strategy – Cluster of Excellence Matter \\n\"\n",
    "    \"and Light for Quantum Computing (ML4Q) EXC 2004/1 – 390534769.\"\n",
    ")\n",
    "\n",
    "used_software = markdown.markdown(\n",
    "    \"### Software\\n\"\n",
    "    \"\\n\"\n",
    "    \"- aiida-core: [www.aiida.net](www.aiida.net)\\n\"\n",
    "    \"- masci-tools: [https://github.com/JuDFTteam/masci-tools](https://github.com/JuDFTteam/masci-tools)\\n\"\n",
    "    \"- bokeh: [https://bokeh.org](https://bokeh.org)\\n\"\n",
    "    \"- ase-notebook: [https://github.com/chrisjsewell/ase-notebook](https://github.com/chrisjsewell/ase-notebook)\\n\"\n",
    "    \"- jupyter appmode: [https://github.com/oschuett/appmode](https://github.com/oschuett/appmode)\"\n",
    ")"
   ]
  },
  {
   "cell_type": "code",
   "execution_count": null,
   "metadata": {},
   "outputs": [],
   "source": [
    "how_to_cite = pn.pane.Markdown(how_to_cite, width=800, sizing_mode='stretch_both')\n",
    "\n",
    "about = pn.pane.Markdown(about, width=800, sizing_mode='stretch_both')\n",
    "\n",
    "acknowledgements = pn.pane.Markdown(acknowledgements, width=800, sizing_mode='stretch_both')\n",
    "\n",
    "used_software = pn.pane.Markdown(used_software, width=800, sizing_mode='stretch_both')"
   ]
  },
  {
   "cell_type": "code",
   "execution_count": null,
   "metadata": {},
   "outputs": [],
   "source": [
    "db_info = pn.Tabs(('How to cite', how_to_cite), \n",
    "                  ('About the databse', about), \n",
    "                  ('Acknowledgements', acknowledgements),\n",
    "                  ('Used software', used_software)\n",
    "                 )"
   ]
  },
  {
   "cell_type": "code",
   "execution_count": null,
   "metadata": {},
   "outputs": [],
   "source": [
    "website_layout = pn.Column(website_layout, db_info)\n",
    "#db_info"
   ]
  },
  {
   "cell_type": "markdown",
   "metadata": {},
   "source": [
    "## Host system: thin film of Sb$_2$Te$_3$\n"
   ]
  },
  {
   "cell_type": "code",
   "execution_count": null,
   "metadata": {},
   "outputs": [],
   "source": [
    "from part2_host_system import host_plots\n",
    "\n",
    "header = pn.pane.Markdown(\"\"\"\n",
    "---\n",
    "## Host system\n",
    "                          \"\"\", width=side_width)#, sizing_mode='stretch_both')\n",
    "header = pn.Column(header, pn.pane.Markdown(\"\"\"\n",
    "The impurities are embedded into a prototypical topological insulator.\n",
    "We consider a thin film of 6 quituple layers (6QL) thickness which allows \n",
    "to embed inpurities at different depths from the surface.\n",
    "For the impurities we considered substitutional positions at the Te and Sb positions of the first three QLs.\n",
    "\n",
    "In order to simulate intrinsic doping in the host material we also shifted the Fermi level for the \n",
    "impurity embedding step from its intrinsic value in the middle of the bulk band gap into the valence \n",
    "and conduction bands (denoted by red and green lines, respectively). The blue shaded region corresponds\n",
    "to the position of the bulk band gap in which only the topological surface states lives.\n",
    "    \"\"\", width=side_width, sizing_mode='stretch_both'))#, sizing_mode='stretch_both')\n",
    "\n",
    "legend = pn.pane.Markdown(\"#### Legend\\n\"\n",
    "                          \"* Red line: Fermi level shift into conduction band\\n\"\n",
    "                          \"* Green line: Fermi level shift into valence band\\n\"\n",
    "                          \"* blue region: region of bulk band gap\\n\", width=side_width)#, sizing_mode='stretch_both')"
   ]
  },
  {
   "cell_type": "code",
   "execution_count": null,
   "metadata": {},
   "outputs": [],
   "source": [
    "#header"
   ]
  },
  {
   "cell_type": "code",
   "execution_count": null,
   "metadata": {
    "scrolled": false
   },
   "outputs": [],
   "source": [
    "host_plots = pn.Column(header, host_plots, legend, )#sizing_mode='stretch_both')\n",
    "\n",
    "website_layout = pn.Column(website_layout, host_plots, )#sizing_mode='stretch_both')\n",
    "\n",
    "host_plots"
   ]
  },
  {
   "cell_type": "markdown",
   "metadata": {},
   "source": [
    "## Overview of impurity properties"
   ]
  },
  {
   "cell_type": "code",
   "execution_count": null,
   "metadata": {},
   "outputs": [],
   "source": [
    "from part3_overview_imps import imps_overview, totimp_num_text"
   ]
  },
  {
   "cell_type": "code",
   "execution_count": null,
   "metadata": {},
   "outputs": [],
   "source": [
    "header = pn.pane.Markdown(\"\"\"\n",
    "---\n",
    "## Overview of impurity properties\n",
    "\n",
    "We embed a large number of substitutional impurities in the topological insulator host system.\n",
    "The results are summarized in the overview plots. For details on the individual impurities use the\n",
    "detail view below.\n",
    "\n",
    "#### Available overview plots\n",
    "\n",
    "* Periodic table plot\n",
    "    * shows average values of the impurity properties (averaged over all impurity configurations)\n",
    "    * Navigate the properties with the Selection buttons\n",
    "    * Hover over the impurity to get see the values for each impurity\n",
    "* Scatter plot\n",
    "    * each calculation in the database if plotted as a point in the scatter plot\n",
    "    * use the control buttons to select which property is plotted on the x and y axis and which data column is used to color the plots\n",
    "                          \"\"\", width=side_width)\n",
    "header = pn.Column(header, pn.pane.Markdown(totimp_num_text))\n",
    "#header"
   ]
  },
  {
   "cell_type": "code",
   "execution_count": null,
   "metadata": {},
   "outputs": [],
   "source": [
    "imp_overview_plots = pn.Column(header, imps_overview)\n",
    "\n",
    "website_layout = pn.Column(website_layout, imp_overview_plots)\n",
    "\n",
    "#imp_overview_plots"
   ]
  },
  {
   "cell_type": "markdown",
   "metadata": {},
   "source": [
    "## Detailed impurity properties"
   ]
  },
  {
   "cell_type": "code",
   "execution_count": null,
   "metadata": {},
   "outputs": [],
   "source": [
    "from part4_imp_subpage import imp_select_panel"
   ]
  },
  {
   "cell_type": "code",
   "execution_count": null,
   "metadata": {},
   "outputs": [],
   "source": [
    "header = pn.pane.Markdown(\"---\\n\"\n",
    "                          \"## Detailed impurity properties\\n\"\n",
    "                          \"\\n\"\n",
    "                          \"Choose an impurity for which the detail page should be displayed. \\n\"\n",
    "                          \"This will show the impurity DOS its location in the host crystal in an \\n\"\n",
    "                          \"interactive plot with some text output.\", width=side_width)"
   ]
  },
  {
   "cell_type": "code",
   "execution_count": null,
   "metadata": {},
   "outputs": [],
   "source": [
    "imp_details = pn.Column(header, imp_select_panel)\n",
    "\n",
    "website_layout = pn.Column(website_layout, imp_details)\n",
    "\n",
    "#imp_details"
   ]
  },
  {
   "cell_type": "code",
   "execution_count": null,
   "metadata": {},
   "outputs": [],
   "source": [
    "footer = pn.Column(\n",
    "    pn.pane.Markdown(\"---\\n\"\n",
    "                     \"<small>\\n\"\n",
    "                     \"\\n\"\n",
    "                     \"\\n\"\n",
    "                     \"### Links\\n\"\n",
    "                     \"\\n\"\n",
    "                     \"* [Forschungszentrum Jülich](https://www.fz-juelich.de/portal/DE/Home/home_node.html)\\n\"\n",
    "                     \"* [Institute for Advanced Simulation (IAS-1)](https://www.fz-juelich.de/pgi/pgi-1/DE/Home/home_node.html)\\n\"\n",
    "                     \"* [Institute Quantum Theory of Materials (PGI-1)](https://www.fz-juelich.de/pgi/pgi-1/DE/Home/home_node.html)\\n\"\n",
    "                     \"* [juDFT: DFT codes from Forschungszentrum Jülich](http://www.judft.de)\\n\"\n",
    "                     \"* [juKKR: The Jülich KKR codes](https://jukkr.fz-juelich.de)\\n\"\n",
    "                     \"* [AiiDA](http://www.aiida.net)\\n\"\n",
    "                     \"* [MaterialsCloud](https://www.materialscloud.org)\\n\"\n",
    "                     \"\\n\"\n",
    "                     \"[Contact: Dr. Philipp Rüßmann](mailto:p.ruessmann@fz-juelich.de?subject=[JuDiT])\\n\\n\"\n",
    "                     \"[© Quantum Theory of Materials (PGI-1 / IAS-1)](https://www.fz-juelich.de/pgi/pgi-1/EN/Home/home_node.html)\\n\"\n",
    "                     \"</small>\\n\"\n",
    "                    ))\n",
    "#footer"
   ]
  },
  {
   "cell_type": "code",
   "execution_count": null,
   "metadata": {},
   "outputs": [],
   "source": [
    "\n",
    "#pn.Column(text_pane, host_plots, imps_overview, imp_detail_buttons).servable()\n",
    "\n",
    "website_layout = pn.Row(pn.Spacer(), \n",
    "                        pn.Column(website_layout, footer, \n",
    "                                  width_policy='max', height_policy='max'), #, sizing_mode='stretch_both', align='center',),\n",
    "                        pn.Spacer(),\n",
    "                       ).servable(title=\"JuDiT - impurity database\")"
   ]
  },
  {
   "cell_type": "code",
   "execution_count": null,
   "metadata": {
    "scrolled": false
   },
   "outputs": [],
   "source": [
    "website_layout"
   ]
  },
  {
   "cell_type": "code",
   "execution_count": null,
   "metadata": {},
   "outputs": [],
   "source": []
  },
  {
   "cell_type": "code",
   "execution_count": null,
   "metadata": {},
   "outputs": [],
   "source": []
  },
  {
   "cell_type": "code",
   "execution_count": null,
   "metadata": {},
   "outputs": [],
   "source": []
  },
  {
   "cell_type": "code",
   "execution_count": null,
   "metadata": {},
   "outputs": [],
   "source": []
  },
  {
   "cell_type": "code",
   "execution_count": null,
   "metadata": {},
   "outputs": [],
   "source": []
  }
 ],
 "metadata": {
  "@webio": {
   "lastCommId": null,
   "lastKernelId": null
  },
  "kernelspec": {
   "display_name": "Python 3",
   "language": "python",
   "name": "python3"
  },
  "language_info": {
   "codemirror_mode": {
    "name": "ipython",
    "version": 3
   },
   "file_extension": ".py",
   "mimetype": "text/x-python",
   "name": "python",
   "nbconvert_exporter": "python",
   "pygments_lexer": "ipython3",
   "version": "3.8.1"
  }
 },
 "nbformat": 4,
 "nbformat_minor": 2
}
